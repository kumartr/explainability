{
  "nbformat": 4,
  "nbformat_minor": 0,
  "metadata": {
    "colab": {
      "provenance": []
    },
    "kernelspec": {
      "name": "python3",
      "display_name": "Python 3"
    },
    "language_info": {
      "name": "python"
    }
  },
  "cells": [
    {
      "cell_type": "code",
      "execution_count": 1,
      "metadata": {
        "colab": {
          "base_uri": "https://localhost:8080/"
        },
        "id": "KIEjDt1mx9aV",
        "outputId": "cd822619-a57e-4e4d-b9bf-d22474b6a33c"
      },
      "outputs": [
        {
          "output_type": "stream",
          "name": "stdout",
          "text": [
            "Looking in indexes: https://pypi.org/simple, https://us-python.pkg.dev/colab-wheels/public/simple/\n",
            "Collecting zennit\n",
            "  Downloading zennit-0.5.0-py3-none-any.whl (53 kB)\n",
            "\u001b[2K     \u001b[90m━━━━━━━━━━━━━━━━━━━━━━━━━━━━━━━━━━━━━━━━\u001b[0m \u001b[32m53.6/53.6 KB\u001b[0m \u001b[31m1.7 MB/s\u001b[0m eta \u001b[36m0:00:00\u001b[0m\n",
            "\u001b[?25hRequirement already satisfied: torch>=1.7.0 in /usr/local/lib/python3.8/dist-packages (from zennit) (1.13.1+cu116)\n",
            "Requirement already satisfied: torchvision in /usr/local/lib/python3.8/dist-packages (from zennit) (0.14.1+cu116)\n",
            "Requirement already satisfied: numpy in /usr/local/lib/python3.8/dist-packages (from zennit) (1.21.6)\n",
            "Requirement already satisfied: Pillow in /usr/local/lib/python3.8/dist-packages (from zennit) (7.1.2)\n",
            "Requirement already satisfied: click in /usr/local/lib/python3.8/dist-packages (from zennit) (7.1.2)\n",
            "Requirement already satisfied: typing-extensions in /usr/local/lib/python3.8/dist-packages (from torch>=1.7.0->zennit) (4.4.0)\n",
            "Requirement already satisfied: requests in /usr/local/lib/python3.8/dist-packages (from torchvision->zennit) (2.25.1)\n",
            "Requirement already satisfied: chardet<5,>=3.0.2 in /usr/local/lib/python3.8/dist-packages (from requests->torchvision->zennit) (4.0.0)\n",
            "Requirement already satisfied: urllib3<1.27,>=1.21.1 in /usr/local/lib/python3.8/dist-packages (from requests->torchvision->zennit) (1.24.3)\n",
            "Requirement already satisfied: idna<3,>=2.5 in /usr/local/lib/python3.8/dist-packages (from requests->torchvision->zennit) (2.10)\n",
            "Requirement already satisfied: certifi>=2017.4.17 in /usr/local/lib/python3.8/dist-packages (from requests->torchvision->zennit) (2022.12.7)\n",
            "Installing collected packages: zennit\n",
            "Successfully installed zennit-0.5.0\n"
          ]
        }
      ],
      "source": [
        "pip install zennit"
      ]
    },
    {
      "cell_type": "code",
      "source": [
        "!curl -o feed_forward.py \\\n",
        "    'https://raw.githubusercontent.com/chr5tphr/zennit/master/share/example/feed_forward.py'"
      ],
      "metadata": {
        "colab": {
          "base_uri": "https://localhost:8080/"
        },
        "id": "D_3l_KQ3yET5",
        "outputId": "19128052-cdb8-4b41-efe2-4981a4457252"
      },
      "execution_count": 2,
      "outputs": [
        {
          "output_type": "stream",
          "name": "stdout",
          "text": [
            "  % Total    % Received % Xferd  Average Speed   Time    Time     Time  Current\n",
            "                                 Dload  Upload   Total   Spent    Left  Speed\n",
            "\r  0     0    0     0    0     0      0      0 --:--:-- --:--:-- --:--:--     0\r100 10754  100 10754    0     0  74680      0 --:--:-- --:--:-- --:--:-- 74680\n"
          ]
        }
      ]
    },
    {
      "cell_type": "code",
      "source": [
        "!wget 'https://upload.wikimedia.org/wikipedia/commons/thumb/8/8b/2006_09_06_180_Leuchtturm.jpg/640px-2006_09_06_180_Leuchtturm.jpg'\n",
        "!wget 'https://upload.wikimedia.org/wikipedia/commons/thumb/5/5b/2014_Leuchtturm_Kap_Arkona_02.jpg/320px-2014_Leuchtturm_Kap_Arkona_02.jpg'\n",
        "!wget    'https://upload.wikimedia.org/wikipedia/commons/thumb/d/d5/2013-12-06_Orkan_Xaver_in_Warnem%C3%BCnde_12.jpg/640px-2013-12-06_Orkan_Xaver_in_Warnem%C3%BCnde_12.jpg'\n",
        "!wget    'https://upload.wikimedia.org/wikipedia/commons/thumb/3/37/Leuchtturm_Dornbusch_2012.JPG/321px-Leuchtturm_Dornbusch_2012.JPG'\n",
        "!wget    'https://upload.wikimedia.org/wikipedia/commons/thumb/0/0d/Neuer_Leuchtturm_Arkona_2012.jpg/640px-Neuer_Leuchtturm_Arkona_2012.jpg'\n",
        "!wget    'https://upload.wikimedia.org/wikipedia/commons/thumb/7/74/Pilsumer_Leuchtturm_2010-10_CN-I.jpg/640px-Pilsumer_Leuchtturm_2010-10_CN-I.jpg'\n",
        "!wget    'https://upload.wikimedia.org/wikipedia/commons/thumb/1/13/Lindau_Harbor_Lake_Constance_01.jpg/640px-Lindau_Harbor_Lake_Constance_01.jpg'\n",
        "!wget    'https://upload.wikimedia.org/wikipedia/commons/thumb/f/fd/Heligoland_07-2016_photo28.jpg/640px-Heligoland_07-2016_photo28.jpg'"
      ],
      "metadata": {
        "colab": {
          "base_uri": "https://localhost:8080/"
        },
        "id": "asGQPuz5yNKA",
        "outputId": "fd56d327-6e87-4c4e-cf05-7dc7b609656f"
      },
      "execution_count": 3,
      "outputs": [
        {
          "output_type": "stream",
          "name": "stdout",
          "text": [
            "--2023-01-20 01:27:32--  https://upload.wikimedia.org/wikipedia/commons/thumb/8/8b/2006_09_06_180_Leuchtturm.jpg/640px-2006_09_06_180_Leuchtturm.jpg\n",
            "Resolving upload.wikimedia.org (upload.wikimedia.org)... 208.80.154.240, 2620:0:861:ed1a::2:b\n",
            "Connecting to upload.wikimedia.org (upload.wikimedia.org)|208.80.154.240|:443... connected.\n",
            "HTTP request sent, awaiting response... 200 OK\n",
            "Length: 46725 (46K) [image/jpeg]\n",
            "Saving to: ‘640px-2006_09_06_180_Leuchtturm.jpg’\n",
            "\n",
            "\r          640px-200   0%[                    ]       0  --.-KB/s               \r640px-2006_09_06_18 100%[===================>]  45.63K  --.-KB/s    in 0.01s   \n",
            "\n",
            "2023-01-20 01:27:32 (3.12 MB/s) - ‘640px-2006_09_06_180_Leuchtturm.jpg’ saved [46725/46725]\n",
            "\n",
            "--2023-01-20 01:27:32--  https://upload.wikimedia.org/wikipedia/commons/thumb/5/5b/2014_Leuchtturm_Kap_Arkona_02.jpg/320px-2014_Leuchtturm_Kap_Arkona_02.jpg\n",
            "Resolving upload.wikimedia.org (upload.wikimedia.org)... 208.80.154.240, 2620:0:861:ed1a::2:b\n",
            "Connecting to upload.wikimedia.org (upload.wikimedia.org)|208.80.154.240|:443... connected.\n",
            "HTTP request sent, awaiting response... 200 OK\n",
            "Length: 30370 (30K) [image/jpeg]\n",
            "Saving to: ‘320px-2014_Leuchtturm_Kap_Arkona_02.jpg’\n",
            "\n",
            "320px-2014_Leuchttu 100%[===================>]  29.66K  --.-KB/s    in 0.01s   \n",
            "\n",
            "2023-01-20 01:27:32 (2.51 MB/s) - ‘320px-2014_Leuchtturm_Kap_Arkona_02.jpg’ saved [30370/30370]\n",
            "\n",
            "--2023-01-20 01:27:32--  https://upload.wikimedia.org/wikipedia/commons/thumb/d/d5/2013-12-06_Orkan_Xaver_in_Warnem%C3%BCnde_12.jpg/640px-2013-12-06_Orkan_Xaver_in_Warnem%C3%BCnde_12.jpg\n",
            "Resolving upload.wikimedia.org (upload.wikimedia.org)... 208.80.154.240, 2620:0:861:ed1a::2:b\n",
            "Connecting to upload.wikimedia.org (upload.wikimedia.org)|208.80.154.240|:443... connected.\n",
            "HTTP request sent, awaiting response... 200 OK\n",
            "Length: 58239 (57K) [image/jpeg]\n",
            "Saving to: ‘640px-2013-12-06_Orkan_Xaver_in_Warnemünde_12.jpg’\n",
            "\n",
            "640px-2013-12-06_Or 100%[===================>]  56.87K  --.-KB/s    in 0.02s   \n",
            "\n",
            "2023-01-20 01:27:32 (3.38 MB/s) - ‘640px-2013-12-06_Orkan_Xaver_in_Warnemünde_12.jpg’ saved [58239/58239]\n",
            "\n",
            "--2023-01-20 01:27:32--  https://upload.wikimedia.org/wikipedia/commons/thumb/3/37/Leuchtturm_Dornbusch_2012.JPG/321px-Leuchtturm_Dornbusch_2012.JPG\n",
            "Resolving upload.wikimedia.org (upload.wikimedia.org)... 208.80.154.240, 2620:0:861:ed1a::2:b\n",
            "Connecting to upload.wikimedia.org (upload.wikimedia.org)|208.80.154.240|:443... connected.\n",
            "HTTP request sent, awaiting response... 200 OK\n",
            "Length: 26326 (26K) [image/jpeg]\n",
            "Saving to: ‘321px-Leuchtturm_Dornbusch_2012.JPG’\n",
            "\n",
            "321px-Leuchtturm_Do 100%[===================>]  25.71K  --.-KB/s    in 0.01s   \n",
            "\n",
            "2023-01-20 01:27:32 (2.27 MB/s) - ‘321px-Leuchtturm_Dornbusch_2012.JPG’ saved [26326/26326]\n",
            "\n",
            "--2023-01-20 01:27:33--  https://upload.wikimedia.org/wikipedia/commons/thumb/0/0d/Neuer_Leuchtturm_Arkona_2012.jpg/640px-Neuer_Leuchtturm_Arkona_2012.jpg\n",
            "Resolving upload.wikimedia.org (upload.wikimedia.org)... 208.80.154.240, 2620:0:861:ed1a::2:b\n",
            "Connecting to upload.wikimedia.org (upload.wikimedia.org)|208.80.154.240|:443... connected.\n",
            "HTTP request sent, awaiting response... 200 OK\n",
            "Length: 82845 (81K) [image/jpeg]\n",
            "Saving to: ‘640px-Neuer_Leuchtturm_Arkona_2012.jpg’\n",
            "\n",
            "640px-Neuer_Leuchtt 100%[===================>]  80.90K  --.-KB/s    in 0.03s   \n",
            "\n",
            "2023-01-20 01:27:33 (2.70 MB/s) - ‘640px-Neuer_Leuchtturm_Arkona_2012.jpg’ saved [82845/82845]\n",
            "\n",
            "--2023-01-20 01:27:33--  https://upload.wikimedia.org/wikipedia/commons/thumb/7/74/Pilsumer_Leuchtturm_2010-10_CN-I.jpg/640px-Pilsumer_Leuchtturm_2010-10_CN-I.jpg\n",
            "Resolving upload.wikimedia.org (upload.wikimedia.org)... 208.80.154.240, 2620:0:861:ed1a::2:b\n",
            "Connecting to upload.wikimedia.org (upload.wikimedia.org)|208.80.154.240|:443... connected.\n",
            "HTTP request sent, awaiting response... 200 OK\n",
            "Length: 57556 (56K) [image/jpeg]\n",
            "Saving to: ‘640px-Pilsumer_Leuchtturm_2010-10_CN-I.jpg’\n",
            "\n",
            "640px-Pilsumer_Leuc 100%[===================>]  56.21K  --.-KB/s    in 0.02s   \n",
            "\n",
            "2023-01-20 01:27:33 (2.68 MB/s) - ‘640px-Pilsumer_Leuchtturm_2010-10_CN-I.jpg’ saved [57556/57556]\n",
            "\n",
            "--2023-01-20 01:27:33--  https://upload.wikimedia.org/wikipedia/commons/thumb/1/13/Lindau_Harbor_Lake_Constance_01.jpg/640px-Lindau_Harbor_Lake_Constance_01.jpg\n",
            "Resolving upload.wikimedia.org (upload.wikimedia.org)... 208.80.154.240, 2620:0:861:ed1a::2:b\n",
            "Connecting to upload.wikimedia.org (upload.wikimedia.org)|208.80.154.240|:443... connected.\n",
            "HTTP request sent, awaiting response... 200 OK\n",
            "Length: 60930 (60K) [image/jpeg]\n",
            "Saving to: ‘640px-Lindau_Harbor_Lake_Constance_01.jpg’\n",
            "\n",
            "640px-Lindau_Harbor 100%[===================>]  59.50K  --.-KB/s    in 0.02s   \n",
            "\n",
            "2023-01-20 01:27:33 (2.68 MB/s) - ‘640px-Lindau_Harbor_Lake_Constance_01.jpg’ saved [60930/60930]\n",
            "\n",
            "--2023-01-20 01:27:33--  https://upload.wikimedia.org/wikipedia/commons/thumb/f/fd/Heligoland_07-2016_photo28.jpg/640px-Heligoland_07-2016_photo28.jpg\n",
            "Resolving upload.wikimedia.org (upload.wikimedia.org)... 208.80.154.240, 2620:0:861:ed1a::2:b\n",
            "Connecting to upload.wikimedia.org (upload.wikimedia.org)|208.80.154.240|:443... connected.\n",
            "HTTP request sent, awaiting response... 200 OK\n",
            "Length: 64070 (63K) [image/jpeg]\n",
            "Saving to: ‘640px-Heligoland_07-2016_photo28.jpg’\n",
            "\n",
            "640px-Heligoland_07 100%[===================>]  62.57K  --.-KB/s    in 0.02s   \n",
            "\n",
            "2023-01-20 01:27:33 (3.26 MB/s) - ‘640px-Heligoland_07-2016_photo28.jpg’ saved [64070/64070]\n",
            "\n"
          ]
        }
      ]
    },
    {
      "cell_type": "code",
      "source": [
        "mv '321px-Leuchtturm_Dornbusch_2012.JPG' '321px-Leuchtturm_Dornbusch_2012.jpg'"
      ],
      "metadata": {
        "id": "3PiD4fs2y3cE"
      },
      "execution_count": 8,
      "outputs": []
    },
    {
      "cell_type": "code",
      "source": [
        "!curl -o vgg16-397923af.pth 'https://download.pytorch.org/models/vgg16-397923af.pth'"
      ],
      "metadata": {
        "colab": {
          "base_uri": "https://localhost:8080/"
        },
        "id": "o-cye7t0yPzg",
        "outputId": "f6f4fbd9-4dcb-474b-d9ff-83dd4c9469ae"
      },
      "execution_count": 4,
      "outputs": [
        {
          "output_type": "stream",
          "name": "stdout",
          "text": [
            "  % Total    % Received % Xferd  Average Speed   Time    Time     Time  Current\n",
            "                                 Dload  Upload   Total   Spent    Left  Speed\n",
            "100  527M  100  527M    0     0   133M      0  0:00:03  0:00:03 --:--:--  133M\n"
          ]
        }
      ]
    },
    {
      "cell_type": "code",
      "source": [
        "!mkdir /content/data/\n",
        "!mkdir /content/data/n02814860\n",
        "!mv /content/*.jpg /content/data/n02814860"
      ],
      "metadata": {
        "id": "v9jxzn5EySRi"
      },
      "execution_count": 6,
      "outputs": []
    },
    {
      "cell_type": "code",
      "source": [
        "!mkdir /content/results"
      ],
      "metadata": {
        "id": "tafyI30Rz-rM"
      },
      "execution_count": 11,
      "outputs": []
    },
    {
      "cell_type": "code",
      "source": [
        "!python feed_forward.py \\\n",
        "     /content/data/ \\\n",
        "    'results/vgg16_epsilon_gamma_box_{sample:02d}.png' \\\n",
        "    --inputs 'results/vgg16_input_{sample:02d}.png' \\\n",
        "    --parameters vgg16-397923af.pth \\\n",
        "    --model vgg16 \\\n",
        "    --composite epsilon_gamma_box \\\n",
        "    --no-bias \\\n",
        "    --relevance-norm symmetric \\\n",
        "    --cmap coldnhot"
      ],
      "metadata": {
        "colab": {
          "base_uri": "https://localhost:8080/"
        },
        "id": "Z2XYGLmUyoRl",
        "outputId": "df62e2d8-0102-4ce9-d34b-d2593cc62cec"
      },
      "execution_count": 12,
      "outputs": [
        {
          "output_type": "stream",
          "name": "stdout",
          "text": [
            "Accuracy: 0.00\n"
          ]
        }
      ]
    },
    {
      "cell_type": "markdown",
      "source": [
        "Other possible composites that can be passed to --composites are, e.g., epsilon_plus, epsilon_alpha2_beta1_flat, guided_backprop, excitation_backprop."
      ],
      "metadata": {
        "id": "8dHHRn1szRiz"
      }
    },
    {
      "cell_type": "code",
      "source": [
        "!mkdir results2\n",
        "!python feed_forward.py \\\n",
        "     /content/data/ \\\n",
        "     'results2/vgg16_smoothgrad_{sample:02d}.png' \\\n",
        "     --inputs 'results2/vgg16_input_{sample:02d}.png' \\\n",
        "     --parameters vgg16-397923af.pth \\\n",
        "     --model vgg16 \\\n",
        "     --attributor smoothgrad \\\n",
        "     --relevance-norm absolute \\\n",
        "     --cmap hot"
      ],
      "metadata": {
        "colab": {
          "base_uri": "https://localhost:8080/"
        },
        "id": "a_6aEzHQzQXj",
        "outputId": "fa27fbb1-06d6-44fa-8a25-ac24e04fb50e"
      },
      "execution_count": 15,
      "outputs": [
        {
          "output_type": "stream",
          "name": "stdout",
          "text": [
            "Accuracy: 0.00\n"
          ]
        }
      ]
    },
    {
      "cell_type": "markdown",
      "source": [
        "For Integrated Gradients, --attributor integrads may be provided."
      ],
      "metadata": {
        "id": "Dpe1p6te1-dC"
      }
    },
    {
      "cell_type": "markdown",
      "source": [
        "Heatmaps for Occlusion Analysis with unaligned relevances may be computed by executing:"
      ],
      "metadata": {
        "id": "ILhM_ay42EKB"
      }
    },
    {
      "cell_type": "code",
      "source": [
        "!mkdir results3\n",
        "!python feed_forward.py \\\n",
        "     /content/data/ \\\n",
        "     'results3/vgg16_occlusion_{sample:02d}.png' \\\n",
        "     --inputs 'results3/vgg16_input_{sample:02d}.png' \\\n",
        "     --parameters vgg16-397923af.pth \\\n",
        "     --model vgg16 \\\n",
        "     --attributor occlusion \\\n",
        "     --relevance-norm unaligned \\\n",
        "     --cmap hot"
      ],
      "metadata": {
        "id": "rRrOF9va2AgK"
      },
      "execution_count": null,
      "outputs": []
    }
  ]
}